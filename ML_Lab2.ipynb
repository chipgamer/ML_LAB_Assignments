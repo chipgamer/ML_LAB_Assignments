{
 "cells": [
  {
   "cell_type": "code",
   "execution_count": 1,
   "id": "c1026289-9966-4789-b59d-8554e573612a",
   "metadata": {},
   "outputs": [
    {
     "name": "stdout",
     "output_type": "stream",
     "text": [
      "Dimensionality of the Vector Space: 3\n",
      "Number of Vectors in the Vector Space: 10\n",
      "Rank of Matrix A: 3\n",
      "Cost of Each Product:\n",
      "Candies: 1.0000000000000027\n",
      "Mangoes: 55.0\n",
      "Milk Packets: 17.99999999999999\n"
     ]
    }
   ],
   "source": [
    "import pandas as pd\n",
    "import numpy as np\n",
    "\n",
    "def load_data(file_path, sheet_name):\n",
    "    df = pd.read_excel(file_path, sheet_name=sheet_name)\n",
    "    A = df[['Candies (#)', 'Mangoes (Kg)', 'Milk Packets (#)']].values\n",
    "    C = df[['Payment (Rs)']].values\n",
    "    return A, C\n",
    "\n",
    "def get_dimensionality(A):\n",
    "    return A.shape[1]\n",
    "\n",
    "def get_number_of_vectors(A):\n",
    "    return A.shape[0]\n",
    "\n",
    "def get_rank(A):\n",
    "    return np.linalg.matrix_rank(A)\n",
    "\n",
    "def get_cost_per_product(A, C):\n",
    "    A_pinv = np.linalg.pinv(A)\n",
    "    return np.dot(A_pinv, C)\n",
    "\n",
    "file_path = 'D:\\\\Lab_Session_Data.xlsx'\n",
    "sheet_name = 'Purchase data'\n",
    "\n",
    "A, C = load_data(file_path, sheet_name)\n",
    "\n",
    "dimensionality = get_dimensionality(A)\n",
    "num_vectors = get_number_of_vectors(A)\n",
    "rank_A = get_rank(A)\n",
    "cost_per_product = get_cost_per_product(A, C)\n",
    "\n",
    "print(\"Dimensionality of the Vector Space:\", dimensionality)\n",
    "print(\"Number of Vectors in the Vector Space:\", num_vectors)\n",
    "print(\"Rank of Matrix A:\", rank_A)\n",
    "print(\"Cost of Each Product:\")\n",
    "print(\"Candies:\", cost_per_product[0, 0])\n",
    "print(\"Mangoes:\", cost_per_product[1, 0])\n",
    "print(\"Milk Packets:\", cost_per_product[2, 0])\n"
   ]
  },
  {
   "cell_type": "code",
   "execution_count": null,
   "id": "e1921093-75af-4929-a0d6-ec4b6fc499a8",
   "metadata": {},
   "outputs": [],
   "source": []
  }
 ],
 "metadata": {
  "kernelspec": {
   "display_name": "Python 3 (ipykernel)",
   "language": "python",
   "name": "python3"
  },
  "language_info": {
   "codemirror_mode": {
    "name": "ipython",
    "version": 3
   },
   "file_extension": ".py",
   "mimetype": "text/x-python",
   "name": "python",
   "nbconvert_exporter": "python",
   "pygments_lexer": "ipython3",
   "version": "3.12.4"
  }
 },
 "nbformat": 4,
 "nbformat_minor": 5
}
